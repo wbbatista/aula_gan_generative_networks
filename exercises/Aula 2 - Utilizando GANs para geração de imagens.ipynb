{
 "cells": [
  {
   "cell_type": "markdown",
   "metadata": {},
   "source": [
    "## Utilizando GANs com imagens\n",
    "\n",
    "Apesar de já termos utilizado GANs com dados mais simples, aplicar esses modelos em dados mais complexos tem seus próprios desafios.\n",
    "\n",
    "Nesta aula treinaremos um modelo GAN na base de dados MNIST, tentando fazer com que o gerador crie amostras sintéticas de imagens de dígitos.\n",
    "\n",
    "O primeiro passo é carregar a base de treinamento, que faremos através do [tensorflor_datasets](https://www.tensorflow.org/datasets?hl=pt-br)"
   ]
  },
  {
   "cell_type": "code",
   "execution_count": 1,
   "metadata": {},
   "outputs": [],
   "source": [
    "import tensorflow_datasets as tfds\n",
    "import tensorflow as tf\n",
    "import matplotlib.pyplot as plt\n",
    "image, label = tfds.as_numpy(tfds.load(\n",
    "    'mnist',\n",
    "    split='train', \n",
    "    batch_size=-1, \n",
    "    as_supervised=True,\n",
    "))\n",
    "train_image = image\n",
    "train_labels = label\n",
    "image, label = tfds.as_numpy(tfds.load(\n",
    "    'mnist',\n",
    "    split='test', \n",
    "    batch_size=-1, \n",
    "    as_supervised=True,\n",
    "))\n",
    "\n",
    "test_image = image\n",
    "test_labels = label"
   ]
  },
  {
   "cell_type": "code",
   "execution_count": null,
   "metadata": {},
   "outputs": [],
   "source": []
  }
 ],
 "metadata": {
  "kernelspec": {
   "display_name": "Python 3",
   "language": "python",
   "name": "python3"
  },
  "language_info": {
   "codemirror_mode": {
    "name": "ipython",
    "version": 3
   },
   "file_extension": ".py",
   "mimetype": "text/x-python",
   "name": "python",
   "nbconvert_exporter": "python",
   "pygments_lexer": "ipython3",
   "version": "3.7.7"
  }
 },
 "nbformat": 4,
 "nbformat_minor": 4
}
